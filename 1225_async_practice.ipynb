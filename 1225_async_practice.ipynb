{
 "cells": [
  {
   "cell_type": "code",
   "execution_count": 1,
   "id": "170d9c33",
   "metadata": {},
   "outputs": [],
   "source": [
    "import asyncio\n",
    "# works on Python 3.5+\n",
    "async def greet(msg):\n",
    "  await asyncio.sleep(1)\n",
    "  print(msg)"
   ]
  },
  {
   "cell_type": "code",
   "execution_count": 2,
   "id": "fd3ed046",
   "metadata": {},
   "outputs": [
    {
     "data": {
      "text/plain": [
       "<coroutine object greet at 0x10d15a960>"
      ]
     },
     "execution_count": 2,
     "metadata": {},
     "output_type": "execute_result"
    }
   ],
   "source": [
    "greet(\"hello\")"
   ]
  },
  {
   "cell_type": "code",
   "execution_count": 3,
   "id": "24f5205a",
   "metadata": {},
   "outputs": [],
   "source": [
    "# Future는 이러한 non-blocking 작업의 리턴으로서 이러한 맥락에서 ‘아직 해결되지 않은 작업의 결과’라는 개념으로 이해할 수 있다\n",
    "# 런루프는 일종의 무한루프인데, 특정한 이벤트나 콜이 발생하면 런루프에 해당 작업이 등록된다. 그리고 루프의 말미에 처리해야 할 함수들을 차례로 호출해 주는 것이다.\n",
    "\n",
    "# 따라서 ensure_future() 함수가 실행되려면 코루틴을 걸어둘 런루프가 필요하며, 비동기 작업을 처리하기 전에는 런루프를 돌려야 한다. \n",
    "# 런루프 역시 asyncio 모듈에서 지원하며, get_event_loop() 함수를 통해서 얻고, run_until_*() 함수들을 통해서 돌릴 수 있다.\n",
    "# 파이썬 3.7에서는 이러한 작업들마저 asyncio.run() 함수를 사용하여 한 번에 처리할 수 있다. 파이썬 3.8에서는 python -m asyncio 로 쉘을 시작하면 쉘 자체가 런루프 내에서 돌아간다. \n",
    "# 즉 비동기 코루틴 함수를 실행해서 코루틴을 바로 실행할 수 있다.\n"
   ]
  },
  {
   "cell_type": "code",
   "execution_count": 5,
   "id": "127d98ba",
   "metadata": {},
   "outputs": [],
   "source": [
    "# Python 3.7+\n",
    "import asyncio\n",
    "import random\n",
    "async def lazy_greet(msg, delay=1):\n",
    "    print(f'{msg!r} will be displayed in {delay} seconds.')\n",
    "    await asyncio.sleep(delay)\n",
    "    return msg.upper()\n",
    "async def main():\n",
    "    messages = 'hello world apple banana cherry'.split()\n",
    "    cos = [lazy_greet(m, random.randrange(1, 5)) for m in messages]\n",
    "    for f in asyncio.as_completed(cos):\n",
    "        print(await f)"
   ]
  },
  {
   "cell_type": "code",
   "execution_count": 6,
   "id": "db75a120",
   "metadata": {},
   "outputs": [
    {
     "ename": "RuntimeError",
     "evalue": "asyncio.run() cannot be called from a running event loop",
     "output_type": "error",
     "traceback": [
      "\u001b[0;31m---------------------------------------------------------------------------\u001b[0m",
      "\u001b[0;31mRuntimeError\u001b[0m                              Traceback (most recent call last)",
      "\u001b[0;32m/var/folders/bp/drbk_n3n1wz8gnd3qf9wv2740000gn/T/ipykernel_8126/149163935.py\u001b[0m in \u001b[0;36m<module>\u001b[0;34m\u001b[0m\n\u001b[0;32m----> 1\u001b[0;31m \u001b[0masyncio\u001b[0m\u001b[0;34m.\u001b[0m\u001b[0mrun\u001b[0m\u001b[0;34m(\u001b[0m\u001b[0mmain\u001b[0m\u001b[0;34m(\u001b[0m\u001b[0;34m)\u001b[0m\u001b[0;34m)\u001b[0m\u001b[0;34m\u001b[0m\u001b[0;34m\u001b[0m\u001b[0m\n\u001b[0m",
      "\u001b[0;32m~/.pyenv/versions/3.10.0/lib/python3.10/asyncio/runners.py\u001b[0m in \u001b[0;36mrun\u001b[0;34m(main, debug)\u001b[0m\n\u001b[1;32m     31\u001b[0m     \"\"\"\n\u001b[1;32m     32\u001b[0m     \u001b[0;32mif\u001b[0m \u001b[0mevents\u001b[0m\u001b[0;34m.\u001b[0m\u001b[0m_get_running_loop\u001b[0m\u001b[0;34m(\u001b[0m\u001b[0;34m)\u001b[0m \u001b[0;32mis\u001b[0m \u001b[0;32mnot\u001b[0m \u001b[0;32mNone\u001b[0m\u001b[0;34m:\u001b[0m\u001b[0;34m\u001b[0m\u001b[0;34m\u001b[0m\u001b[0m\n\u001b[0;32m---> 33\u001b[0;31m         raise RuntimeError(\n\u001b[0m\u001b[1;32m     34\u001b[0m             \"asyncio.run() cannot be called from a running event loop\")\n\u001b[1;32m     35\u001b[0m \u001b[0;34m\u001b[0m\u001b[0m\n",
      "\u001b[0;31mRuntimeError\u001b[0m: asyncio.run() cannot be called from a running event loop"
     ]
    }
   ],
   "source": [
    "asyncio.run(main())"
   ]
  },
  {
   "cell_type": "code",
   "execution_count": null,
   "id": "c9625ed4",
   "metadata": {},
   "outputs": [],
   "source": []
  }
 ],
 "metadata": {
  "kernelspec": {
   "display_name": "Python 3 (ipykernel)",
   "language": "python",
   "name": "python3"
  },
  "language_info": {
   "codemirror_mode": {
    "name": "ipython",
    "version": 3
   },
   "file_extension": ".py",
   "mimetype": "text/x-python",
   "name": "python",
   "nbconvert_exporter": "python",
   "pygments_lexer": "ipython3",
   "version": "3.10.0"
  }
 },
 "nbformat": 4,
 "nbformat_minor": 5
}
